{
 "cells": [
  {
   "cell_type": "code",
   "execution_count": 4,
   "metadata": {
    "scrolled": false
   },
   "outputs": [],
   "source": [
    "#import required Packages\n",
    "import sys\n",
    "from collections import Counter\n",
    "import os\n",
    "import re\n",
    "from math import log\n",
    "import string\n",
    "import numpy as np\n",
    "from itertools import chain\n",
    "import random\n",
    "def main():  \n",
    "   readFile = 'amazon_cells_labelled.txt'  \n",
    "\n",
    "   if not os.path.isfile(readFile):\n",
    "       print(\"File path {} does not exist. Exiting...\".format(readFile))\n",
    "       sys.exit()\n",
    "\n",
    "   bag_of_words = {}\n",
    "   vocubulary = {}\n",
    "   positive_lines=0\n",
    "   with open(readFile) as fp:\n",
    "       #print(getVocubulary(fp))\n",
    "       count = 0\n",
    "       positive_lines=0\n",
    "       negative_lines=0 \n",
    "       positive_class=[]\n",
    "       for line in fp:\n",
    "           words_in_line = line.split()\n",
    "           #positiveClass(line)\n",
    "            #negativeClass(line)\n",
    "#            if(words_in_line[-1]=='1'):\n",
    "#                 positive_class.append(line)\n",
    "#                 positive_lines+=1\n",
    "                \n",
    "#            elif(words_in_line[-1]=='0'):\n",
    "#                 negative_class.append(line)\n",
    "#                 negative_lines+=1    \n",
    "                #count += 1\n",
    "           #print(\"line {} : {}\".format(count, line))\n",
    "            \n",
    "            #record_word_cnt(line.strip().split(' '), bag_of_words)\n",
    "           count += 1\n",
    "   #sorted_words = order_bag_of_words(bag_of_words, desc=True)\n",
    "   #print(\"Most frequent 10 words {}\".format(sorted_words[:10]))\n",
    "            \n",
    "#        print(\"Positive Lines\",positive_lines)\n",
    "#        print(\"Negative Lines\",negative_lines)\n",
    "   #print(positive_class)          \n",
    "\n",
    "\n",
    "if __name__ == '__main__':  \n",
    "   main()\n",
    "        \n"
   ]
  },
  {
   "cell_type": "code",
   "execution_count": null,
   "metadata": {},
   "outputs": [],
   "source": [
    "def getVocubulary(fp):\n",
    "    result=fp.read()\n",
    "    words=sorted(set(re.split(r\"\\W+\",result)))\n",
    "    words=[word.lower() for word in words]\n",
    "    return words"
   ]
  },
  {
   "cell_type": "code",
   "execution_count": 56,
   "metadata": {},
   "outputs": [],
   "source": [
    "def positiveClass(line):\n",
    "    positivelinecount=0\n",
    "    positive_class=[]\n",
    "    words_in_line = line.split()\n",
    "    if(words_in_line[-1]=='1'):\n",
    "        positivelinecount+=1\n",
    "        #print(line)\n",
    "        positive_class.append(line)\n",
    "        return positive_class  "
   ]
  },
  {
   "cell_type": "code",
   "execution_count": 57,
   "metadata": {},
   "outputs": [],
   "source": [
    "def negativeClass(line):\n",
    "    negative_class=[] \n",
    "    words_in_line = line.split()\n",
    "    if(words_in_line[-1]=='0'):\n",
    "        #print(line)\n",
    "        negative_class.append(line)\n",
    "        return negative_class   "
   ]
  },
  {
   "cell_type": "code",
   "execution_count": 48,
   "metadata": {},
   "outputs": [],
   "source": [
    "def getVocubulary(fp):\n",
    "    result=fp.read()\n",
    "    words=sorted(set(re.split(r\"\\W+\",result)))\n",
    "    words=[word.lower() for word in words]\n",
    "    return words"
   ]
  },
  {
   "cell_type": "code",
   "execution_count": null,
   "metadata": {},
   "outputs": [],
   "source": [
    "def order_bag_of_words(bag_of_words, desc=False):  \n",
    "   words = [(word, count) for word, count in bag_of_words.items()]\n",
    "   return sorted(words, key=lambda x: x[1], reverse=desc)"
   ]
  },
  {
   "cell_type": "code",
   "execution_count": 45,
   "metadata": {},
   "outputs": [],
   "source": [
    "def record_word_count(words, bag_of_words):  \n",
    "   for word in words:\n",
    "       if word != '':\n",
    "           #print(word)\n",
    "           if word.lower() in bag_of_words:\n",
    "                \n",
    "               bag_of_words[word.lower()] += 1\n",
    "           else:\n",
    "               bag_of_words[word.lower()] = 1"
   ]
  },
  {
   "cell_type": "code",
   "execution_count": null,
   "metadata": {},
   "outputs": [],
   "source": [
    "#calculate the log prior (probability of each class)\n",
    "def calculateClassProbabilities(trainingSet):\n",
    "    positive_prob = np.log(len(trainingSet[0])/(len(trainingSet[0])+len(trainingSet[1])))\n",
    "    negative_prob = np.log(len(trainingSet[1])/(len(trainingSet[0])+len(trainingSet[1])))\n",
    "    return positive_prob, negative_prob"
   ]
  },
  {
   "cell_type": "code",
   "execution_count": 1,
   "metadata": {},
   "outputs": [],
   "source": [
    "def accuracyTest(testingSet):\n",
    "        data = []\n",
    "        for i in range (len(testingSet)):\n",
    "            if self.testingSet[i][1]== self.testingSet[i][1]:\n",
    "                data.append(1)\n",
    "            else:\n",
    "                pass\n",
    "        return(round((sum(data)/len(self.testingSet))*100))"
   ]
  },
  {
   "cell_type": "code",
   "execution_count": null,
   "metadata": {},
   "outputs": [],
   "source": [
    "if __name__ == '__main__':  \n",
    "   main()"
   ]
  }
 ],
 "metadata": {
  "kernelspec": {
   "display_name": "Python 3",
   "language": "python",
   "name": "python3"
  },
  "language_info": {
   "codemirror_mode": {
    "name": "ipython",
    "version": 3
   },
   "file_extension": ".py",
   "mimetype": "text/x-python",
   "name": "python",
   "nbconvert_exporter": "python",
   "pygments_lexer": "ipython3",
   "version": "3.6.4"
  }
 },
 "nbformat": 4,
 "nbformat_minor": 2
}
