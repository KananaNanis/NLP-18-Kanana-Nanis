{
 "cells": [
  {
   "cell_type": "code",
   "execution_count": 2,
   "metadata": {},
   "outputs": [
    {
     "name": "stdout",
     "output_type": "stream",
     "text": [
      "Minimum edit distance between intention and execution is 8\n"
     ]
    }
   ],
   "source": [
    "insertion_cost = 1\n",
    "deletion_cost = 1\n",
    "substitution_cost = 2\n",
    "\n",
    "def minEditDist(source, target):\n",
    "    n=len(source)\n",
    "    m=len(target)\n",
    "\n",
    "    #Create a distance matrix\n",
    "    dist= [[0 for x in range(n+1)] for x in range(m+1)]\n",
    "    \n",
    "    #Initialization\n",
    "    for i in range(0,n+1): \n",
    "        dist[i][0]=i\n",
    "    for j in range(0,m+1):\n",
    "        dist[0][j]=j\n",
    "        \n",
    "    # Recurrence relation:\n",
    "    for i in range(1,n+1): \n",
    "        for j in range(1,m+1):\n",
    "\n",
    "            # check if last characters are same\n",
    "            if source[i-1] == target[j-1]: \n",
    "                dist[i][j] = dist[i-1][j-1]\n",
    "\n",
    "            else: \n",
    "                dist[i][j] = min(dist[i][j-1]+ insertion_cost,   \n",
    "                                   dist[i-1][j]+ deletion_cost,    \n",
    "                                   dist[i-1][j-1]+ substitution_cost)  \n",
    "\n",
    "    return dist[n][m]\n",
    "\n",
    "source = \"intention\"\n",
    "target = \"execution\"\n",
    "  \n",
    "print(\"Minimum edit distance between\", source,  \"and\", target,  \"is\", minEditDist(source, target)) \n"
   ]
  },
  {
   "cell_type": "code",
   "execution_count": null,
   "metadata": {},
   "outputs": [],
   "source": []
  }
 ],
 "metadata": {
  "kernelspec": {
   "display_name": "Python 3",
   "language": "python",
   "name": "python3"
  },
  "language_info": {
   "codemirror_mode": {
    "name": "ipython",
    "version": 3
   },
   "file_extension": ".py",
   "mimetype": "text/x-python",
   "name": "python",
   "nbconvert_exporter": "python",
   "pygments_lexer": "ipython3",
   "version": "3.6.4"
  }
 },
 "nbformat": 4,
 "nbformat_minor": 2
}
